{
  "nbformat": 4,
  "nbformat_minor": 0,
  "metadata": {
    "colab": {
      "name": "Exercise 4-Question.ipynb",
      "provenance": [],
      "toc_visible": true,
      "include_colab_link": true
    },
    "kernelspec": {
      "display_name": "Python 3",
      "name": "python3"
    }
  },
  "cells": [
    {
      "cell_type": "markdown",
      "metadata": {
        "id": "view-in-github",
        "colab_type": "text"
      },
      "source": [
        "<a href=\"https://colab.research.google.com/github/saurabhthesuperhero/Introduction-to-TensorFlow/blob/master/Exercise_4_Question.ipynb\" target=\"_parent\"><img src=\"https://colab.research.google.com/assets/colab-badge.svg\" alt=\"Open In Colab\"/></a>"
      ]
    },
    {
      "cell_type": "code",
      "metadata": {
        "id": "zX4Kg8DUTKWO",
        "colab_type": "code",
        "colab": {}
      },
      "source": [
        "#@title Licensed under the Apache License, Version 2.0 (the \"License\");\n",
        "# you may not use this file except in compliance with the License.\n",
        "# You may obtain a copy of the License at\n",
        "#\n",
        "# https://www.apache.org/licenses/LICENSE-2.0\n",
        "#\n",
        "# Unless required by applicable law or agreed to in writing, software\n",
        "# distributed under the License is distributed on an \"AS IS\" BASIS,\n",
        "# WITHOUT WARRANTIES OR CONDITIONS OF ANY KIND, either express or implied.\n",
        "# See the License for the specific language governing permissions and\n",
        "# limitations under the License."
      ],
      "execution_count": 0,
      "outputs": []
    },
    {
      "cell_type": "markdown",
      "metadata": {
        "colab_type": "text",
        "id": "UncprnB0ymAE"
      },
      "source": [
        "Below is code with a link to a happy or sad dataset which contains 80 images, 40 happy and 40 sad. \n",
        "Create a convolutional neural network that trains to 100% accuracy on these images,  which cancels training upon hitting training accuracy of >.999\n",
        "\n",
        "Hint -- it will work best with 3 convolutional layers."
      ]
    },
    {
      "cell_type": "code",
      "metadata": {
        "colab_type": "code",
        "id": "7Vti6p3PxmpS",
        "outputId": "19bffd38-2f6e-443e-eaef-73b83edd8a66",
        "colab": {
          "base_uri": "https://localhost:8080/",
          "height": 228
        }
      },
      "source": [
        "import tensorflow as tf\n",
        "import os\n",
        "import zipfile\n",
        "\n",
        "\n",
        "DESIRED_ACCURACY = 0.999\n",
        "\n",
        "!wget --no-check-certificate \\\n",
        "    \"https://storage.googleapis.com/laurencemoroney-blog.appspot.com/happy-or-sad.zip\" \\\n",
        "    -O \"/tmp/happy-or-sad.zip\"\n",
        "\n",
        "zip_ref = zipfile.ZipFile(\"/tmp/happy-or-sad.zip\", 'r')\n",
        "zip_ref.extractall(\"/tmp/h-or-s\")\n",
        "zip_ref.close()\n",
        "\n",
        "class myCallback(tf.keras.callbacks.Callback):\n",
        "  def on_epoch_end(self,epoch,logs={}):\n",
        "            if(logs.get('accuracy')>0.999):\n",
        "                print(\"\\n99.9 % accuracy achieved\")\n",
        "                self.model.stop_training=True\n",
        "\n",
        "callbacks = myCallback()"
      ],
      "execution_count": 0,
      "outputs": [
        {
          "output_type": "stream",
          "text": [
            "--2020-05-25 15:17:32--  https://storage.googleapis.com/laurencemoroney-blog.appspot.com/happy-or-sad.zip\n",
            "Resolving storage.googleapis.com (storage.googleapis.com)... 108.177.111.128, 2607:f8b0:4001:c05::80\n",
            "Connecting to storage.googleapis.com (storage.googleapis.com)|108.177.111.128|:443... connected.\n",
            "HTTP request sent, awaiting response... 200 OK\n",
            "Length: 2670333 (2.5M) [application/zip]\n",
            "Saving to: ‘/tmp/happy-or-sad.zip’\n",
            "\n",
            "\r/tmp/happy-or-sad.z   0%[                    ]       0  --.-KB/s               \r/tmp/happy-or-sad.z 100%[===================>]   2.55M  --.-KB/s    in 0.02s   \n",
            "\n",
            "2020-05-25 15:17:32 (133 MB/s) - ‘/tmp/happy-or-sad.zip’ saved [2670333/2670333]\n",
            "\n"
          ],
          "name": "stdout"
        }
      ]
    },
    {
      "cell_type": "code",
      "metadata": {
        "colab_type": "code",
        "id": "6DLGbXXI1j_V",
        "colab": {}
      },
      "source": [
        "# This Code Block should Define and Compile the Model\n",
        "model = tf.keras.models.Sequential([\n",
        "        tf.keras.layers.Conv2D(32,(3,3),activation='relu',input_shape=(150,150,3)),\n",
        "        tf.keras.layers.MaxPooling2D(2,2),\n",
        "        tf.keras.layers.Conv2D(16,(3,3),activation='relu'),\n",
        "        tf.keras.layers.MaxPooling2D(2,2),\n",
        "        tf.keras.layers.Conv2D(8,(3,3),activation='relu'),\n",
        "        tf.keras.layers.MaxPooling2D(2,2),\n",
        "        \n",
        "        tf.keras.layers.Flatten(),\n",
        "        tf.keras.layers.Dense(108,activation='relu'),\n",
        "        tf.keras.layers.Dense(1,activation='sigmoid')\n",
        "])\n",
        "\n",
        "from tensorflow.keras.optimizers import RMSprop\n",
        "\n",
        "model.compile(optimizer=RMSprop(lr=0.001),loss='binary_crossentropy',metrics=['accuracy'])"
      ],
      "execution_count": 0,
      "outputs": []
    },
    {
      "cell_type": "code",
      "metadata": {
        "colab_type": "code",
        "id": "4Ap9fUJE1vVu",
        "outputId": "4a203bf2-ea84-45af-d16d-ef805f3eaf1c",
        "colab": {
          "base_uri": "https://localhost:8080/",
          "height": 34
        }
      },
      "source": [
        "# This code block should create an instance of an ImageDataGenerator called train_datagen \n",
        "# And a train_generator by calling train_datagen.flow_from_directory\n",
        "\n",
        "from tensorflow.keras.preprocessing.image import ImageDataGenerator\n",
        "\n",
        "train_datagen = ImageDataGenerator(rescale=1/255)\n",
        "\n",
        "train_generator = train_datagen.flow_from_directory(\n",
        "       '/tmp/h-or-s',\n",
        "       target_size=(150,150),\n",
        "       batch_size=10,\n",
        "       class_mode='binary'\n",
        "       \n",
        "       )\n",
        "\n",
        "# Expected output: 'Found 80 images belonging to 2 classes'"
      ],
      "execution_count": 0,
      "outputs": [
        {
          "output_type": "stream",
          "text": [
            "Found 80 images belonging to 2 classes.\n"
          ],
          "name": "stdout"
        }
      ]
    },
    {
      "cell_type": "code",
      "metadata": {
        "colab_type": "code",
        "id": "48dLm13U1-Le",
        "outputId": "04ed8bee-269a-481e-a357-284175a6c283",
        "colab": {
          "base_uri": "https://localhost:8080/",
          "height": 399
        }
      },
      "source": [
        "# This code block should call model.fit and train for\n",
        "# a number of epochs. \n",
        "history =model.fit_generator(\n",
        "          train_generator,\n",
        "      steps_per_epoch=8,  \n",
        "      epochs=15,\n",
        "      verbose=1,\n",
        "     callbacks=[callbacks]\n",
        "         )\n",
        "    \n",
        "# Expected output: \"Reached 99.9% accuracy so cancelling training!\"\""
      ],
      "execution_count": 0,
      "outputs": [
        {
          "output_type": "stream",
          "text": [
            "Epoch 1/15\n",
            "8/8 [==============================] - 2s 197ms/step - loss: 0.8634 - accuracy: 0.4875\n",
            "Epoch 2/15\n",
            "8/8 [==============================] - 2s 203ms/step - loss: 0.5989 - accuracy: 0.7375\n",
            "Epoch 3/15\n",
            "8/8 [==============================] - 2s 200ms/step - loss: 0.3401 - accuracy: 0.9500\n",
            "Epoch 4/15\n",
            "8/8 [==============================] - 2s 201ms/step - loss: 0.2315 - accuracy: 0.8875\n",
            "Epoch 5/15\n",
            "8/8 [==============================] - 2s 196ms/step - loss: 0.1590 - accuracy: 0.9500\n",
            "Epoch 6/15\n",
            "8/8 [==============================] - 2s 201ms/step - loss: 0.1301 - accuracy: 0.9500\n",
            "Epoch 7/15\n",
            "8/8 [==============================] - 2s 199ms/step - loss: 0.1674 - accuracy: 0.8625\n",
            "Epoch 8/15\n",
            "8/8 [==============================] - 2s 197ms/step - loss: 0.0807 - accuracy: 0.9750\n",
            "Epoch 9/15\n",
            "8/8 [==============================] - 2s 207ms/step - loss: 0.0746 - accuracy: 0.9625\n",
            "Epoch 10/15\n",
            "8/8 [==============================] - ETA: 0s - loss: 0.0290 - accuracy: 1.0000\n",
            "99.9 % accuracy achieved\n",
            "8/8 [==============================] - 2s 206ms/step - loss: 0.0290 - accuracy: 1.0000\n"
          ],
          "name": "stdout"
        }
      ]
    }
  ]
}